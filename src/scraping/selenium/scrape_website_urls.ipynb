{
 "cells": [
  {
   "cell_type": "markdown",
   "metadata": {},
   "source": [
    "In this notebook we'll fetch the urls of the companies that are referenced on https://fr.trustpilot.com/\n",
    "\n",
    "We'll use selenium because the content is dynamically rendered\n",
    "\n",
    "We'll then scrape the reviews using scrapy and feending it the scraped urls"
   ]
  },
  {
   "cell_type": "code",
   "execution_count": 1,
   "metadata": {
    "ExecuteTime": {
     "end_time": "2020-07-23T16:57:11.265265Z",
     "start_time": "2020-07-23T16:57:11.255260Z"
    }
   },
   "outputs": [],
   "source": [
    "%config Completer.use_jedi=False"
   ]
  },
  {
   "cell_type": "code",
   "execution_count": 2,
   "metadata": {
    "ExecuteTime": {
     "end_time": "2020-07-23T16:57:12.711115Z",
     "start_time": "2020-07-23T16:57:11.812053Z"
    }
   },
   "outputs": [],
   "source": [
    "import json\n",
    "import time\n",
    "\n",
    "from bs4 import BeautifulSoup\n",
    "import requests\n",
    "import pandas as pd\n",
    "\n",
    "from selenium import webdriver\n",
    "from selenium.common.exceptions import NoSuchElementException\n",
    "from selenium.common.exceptions import TimeoutException\n",
    "from selenium.webdriver.support.ui import WebDriverWait\n",
    "from selenium.webdriver.support import expected_conditions as EC\n",
    "from selenium.webdriver.common.by import By\n",
    "from selenium.webdriver.chrome.options import Options\n",
    "\n",
    "from tqdm.notebook import trange, tqdm\n",
    "\n",
    "import pprint \n",
    "pp = pprint.PrettyPrinter()\n",
    "\n",
    "import threading"
   ]
  },
  {
   "cell_type": "markdown",
   "metadata": {},
   "source": [
    "TY - If you don't see XML builder, then you will run into issues. You have to conda install lxml. If that still fails, then you have to re-install lxml and bs, and restall them in the order: lxml then bs."
   ]
  },
  {
   "cell_type": "code",
   "execution_count": 3,
   "metadata": {
    "ExecuteTime": {
     "end_time": "2020-07-23T16:57:13.859658Z",
     "start_time": "2020-07-23T16:57:13.847660Z"
    }
   },
   "outputs": [
    {
     "data": {
      "text/plain": [
       "[bs4.builder._lxml.LXMLTreeBuilder,\n",
       " bs4.builder._lxml.LXMLTreeBuilderForXML,\n",
       " bs4.builder._htmlparser.HTMLParserTreeBuilder]"
      ]
     },
     "execution_count": 3,
     "metadata": {},
     "output_type": "execute_result"
    }
   ],
   "source": [
    "import bs4\n",
    "bs4.builder.builder_registry.builders"
   ]
  },
  {
   "cell_type": "markdown",
   "metadata": {},
   "source": [
    "We first start by fetching sub-categories urls:"
   ]
  },
  {
   "cell_type": "code",
   "execution_count": 33,
   "metadata": {
    "ExecuteTime": {
     "end_time": "2020-07-23T17:18:34.153066Z",
     "start_time": "2020-07-23T17:18:33.287463Z"
    }
   },
   "outputs": [],
   "source": [
    "base_url = \"https://trustpilot.com\"\n",
    "data = {}\n",
    "\n",
    "soup = BeautifulSoup(requests.get(base_url + '/categories').content, 'lxml')\n",
    "for category in soup.findAll('div', {'class': 'subCategory___BRUDy'}):\n",
    "    name = category.find('h3', {'class': 'subCategoryHeader___36ykD'}).text\n",
    "    name = name.strip()\n",
    "    data[name] = {}  \n",
    "    sub_categories = category.find('div', {'class': 'subCategoryList___r67Qj'})\n",
    "    for sub_category in sub_categories.findAll('div', {'class': 'subCategoryItem___3ksKz'}):\n",
    "        sub_category_name = sub_category.text \n",
    "        sub_category_uri = sub_category.find('a')['href'] \n",
    "        data[name][sub_category_name] = sub_category_uri"
   ]
  },
  {
   "cell_type": "code",
   "execution_count": 34,
   "metadata": {
    "ExecuteTime": {
     "end_time": "2020-07-23T17:18:34.704107Z",
     "start_time": "2020-07-23T17:18:34.688108Z"
    }
   },
   "outputs": [
    {
     "name": "stdout",
     "output_type": "stream",
     "text": [
      "{'Animals & Pets': {'Animal Health': '/categories/animal_health',\n",
      "                    'Animal Parks & Zoo': '/categories/animal_parks_zoo',\n",
      "                    'Cats & Dogs': '/categories/cats_dogs',\n",
      "                    'Horses & Riding': '/categories/horses_riding',\n",
      "                    'Pet Services': '/categories/pet_services',\n",
      "                    'Pet Stores': '/categories/pet_stores'},\n",
      " 'Beauty & Well-being': {'Cosmetics & Makeup': '/categories/cosmetics_makeup',\n",
      "                         'Hair Care & Styling': '/categories/hair_care_styling',\n",
      "                         'Personal Care': '/categories/personal_care',\n",
      "                         'Salons & Clinics': '/categories/salons_clinics',\n",
      "                         'Tattoos & Piercings': '/categories/tattoos_piercings',\n",
      "                         'Wellness & Spa': '/categories/wellness_spa',\n",
      "                         'Yoga & Meditation': '/categories/yoga_meditation'},\n",
      " 'Business Services': {'Administration & Services': '/categories/administration_services',\n",
      "                       'Associations & Centers': '/categories/associations_centers',\n",
      "                       'HR & Recruiting': '/categories/hr_recruiting',\n",
      "                       'IT & Communication': '/categories/it_communication',\n",
      "                       'Import & Export': '/categories/import_export',\n",
      "                       'Office Space & Supplies': '/categories/office_space_supplies',\n",
      "                       'Print & Graphic Design': '/categories/print_graphic_design',\n",
      "                       'Research & Development': '/categories/research_development',\n",
      "                       'Sales & Marketing': '/categories/sales_marketing',\n",
      "                       'Shipping & Logistics': '/categories/shipping_logistics',\n",
      "                       'Wholesale': '/categories/wholesale'},\n",
      " 'Construction & Manufacturing': {'Architects & Engineers': '/categories/architects_engineers',\n",
      "                                  'Building Materials': '/categories/building_materials',\n",
      "                                  'Chemicals & Plastic': '/categories/chemicals_plastic',\n",
      "                                  'Construction Services': '/categories/construction_services',\n",
      "                                  'Contractors & Consultants': '/categories/contractors_consultants',\n",
      "                                  'Factory Equipment': '/categories/factory_equipment',\n",
      "                                  'Garden & Landscaping': '/categories/garden_landscaping',\n",
      "                                  'Industrial Supplies': '/categories/industrial_supplies',\n",
      "                                  'Manufacturing': '/categories/manufacturing',\n",
      "                                  'Production Services': '/categories/production_services',\n",
      "                                  'Tools & Equipment': '/categories/tools_equipment'},\n",
      " 'Education & Training': {'Colleges & Universities': '/categories/colleges_universities',\n",
      "                          'Courses & Classes': '/categories/courses_classes',\n",
      "                          'Education Services': '/categories/education_services',\n",
      "                          'Language Learning': '/categories/language_learning',\n",
      "                          'Music & Theater Classes': '/categories/music_theater_classes',\n",
      "                          'School & High School': '/categories/school_high_school',\n",
      "                          'Specials Schools': '/categories/specials_schools',\n",
      "                          'Vocational Training': '/categories/vocational_training'},\n",
      " 'Electronics & Technology': {'Appliances & Electronics': '/categories/appliances_electronics',\n",
      "                              'Audio & Visual': '/categories/audio_visual',\n",
      "                              'Computers & Phones': '/categories/computers_phones',\n",
      "                              'Internet & Software': '/categories/internet_software',\n",
      "                              'Repair & Services': '/categories/repair_services'},\n",
      " 'Events & Entertainment': {'Adult Entertainment': '/categories/adult_entertainment',\n",
      "                            \"Children's Entertainment\": '/categories/childrens_entertainment',\n",
      "                            'Clubbing & Nightlife': '/categories/clubbing_nightlife',\n",
      "                            'Events & Venues': '/categories/events_venues',\n",
      "                            'Gambling': '/categories/gambling',\n",
      "                            'Gaming': '/categories/gaming',\n",
      "                            'Museums & Exibits': '/categories/museums_exibits',\n",
      "                            'Music & Movies': '/categories/music_movies',\n",
      "                            'Theater & Opera': '/categories/theater_opera',\n",
      "                            'Wedding & Party': '/categories/wedding_party'},\n",
      " 'Food, Beverages & Tobacco': {'Agriculture & Produce': '/categories/agriculture_produce',\n",
      "                               'Asian Grocery Stores': '/categories/asian_grocery_stores',\n",
      "                               'Bakery & Pastry': '/categories/bakery_pastry',\n",
      "                               'Beer & Wine': '/categories/beer_wine',\n",
      "                               'Beverages & Liquor': '/categories/beverages_liquor',\n",
      "                               'Butcher': '/categories/butcher',\n",
      "                               'Candy & Chocolate': '/categories/candy_chocolate',\n",
      "                               'Coffee & Tea': '/categories/coffee_tea',\n",
      "                               'Food Production': '/categories/food_production',\n",
      "                               'Fruits & Vegetables': '/categories/fruits_vegetables',\n",
      "                               'Grocery Stores & Markets': '/categories/grocery_stores_markets',\n",
      "                               'Lunch & Catering': '/categories/lunch_catering',\n",
      "                               'Meat, Seafood & Eggs': '/categories/meat_seafood_eggs',\n",
      "                               'Smoking & Tobacco': '/categories/smoking_tobacco',\n",
      "                               'Tobacco Store': '/categories/tobacco_store'},\n",
      " 'Health & Medical': {'Clinics': '/categories/clinics',\n",
      "                      'Dental Services': '/categories/dental_services',\n",
      "                      'Diagnostics & Testing': '/categories/diagnostics_testing',\n",
      "                      'Doctors & Surgeons': '/categories/doctors_surgeons',\n",
      "                      'Health Equipment': '/categories/health_equipment',\n",
      "                      'Hospital & Emergency': '/categories/hospital_emergency',\n",
      "                      'Medical Specialists': '/categories/medical_specialists',\n",
      "                      'Mental Health': '/categories/mental_health',\n",
      "                      'Pharmacy & Medicine': '/categories/pharmacy_medicine',\n",
      "                      'Physical Aids': '/categories/physical_aids',\n",
      "                      'Pregnancy & Children': '/categories/pregnancy_children',\n",
      "                      'Therapy & Senior Health': '/categories/therapy_senior_health',\n",
      "                      'Vision & Hearing': '/categories/vision_hearing'},\n",
      " 'Hobbies & Crafts': {'Art & Handicraft': '/categories/art_handicraft',\n",
      "                      'Astrology & Numerology': '/categories/astrology_numerology',\n",
      "                      'Fishing & Hunting': '/categories/fishing_hunting',\n",
      "                      'Hobbies': '/categories/hobbies',\n",
      "                      'Metal, Stone & Glass Work': '/categories/metal_stone_glass_work',\n",
      "                      'Music & Instruments': '/categories/music_instruments',\n",
      "                      'Needlework & Knitting': '/categories/needlework_knitting',\n",
      "                      'Outdoor Activities': '/categories/outdoor_activities',\n",
      "                      'Painting & Paper': '/categories/painting_paper'},\n",
      " 'Home & Garden': {'Bathroom & Kitchen': '/categories/bathroom_kitchen',\n",
      "                   'Cultural Goods': '/categories/cultural_goods',\n",
      "                   'Decoration & Interior': '/categories/decoration_interior',\n",
      "                   'Energy & Heating': '/categories/energy_heating',\n",
      "                   'Fabric & Stationery': '/categories/fabric_stationary',\n",
      "                   'Furniture Stores': '/categories/furniture_stores',\n",
      "                   'Garden & Pond': '/categories/garden_pond',\n",
      "                   'Home & Garden Services': '/categories/home_garden_services',\n",
      "                   'Home Goods Stores': '/categories/home_goods_stores',\n",
      "                   'Home Improvements': '/categories/home_improvements'},\n",
      " 'Home Services': {'Cleaning Service Providers': '/categories/cleaning_service_providers',\n",
      "                   'Craftsman': '/categories/craftsman',\n",
      "                   'House Services': '/categories/house_services',\n",
      "                   'House Sitting & Security': '/categories/house_sitting_security',\n",
      "                   'Moving & Storage': '/categories/moving_storage',\n",
      "                   'Plumbing & Sanitation': '/categories/plumbing_sanitation',\n",
      "                   'Repair Service Providers': '/categories/repair_service_providers'},\n",
      " 'Legal Services & Government': {'Customs & Toll': '/categories/customs_toll',\n",
      "                                 'Government Department': '/categories/government_department',\n",
      "                                 'Law Enforcement': '/categories/law_enforcement',\n",
      "                                 'Lawyers & Attorneys': '/categories/lawyers_attorneys',\n",
      "                                 'Legal Service Providers': '/categories/legal_service_providers',\n",
      "                                 'Libraries & Archives': '/categories/libraries_archives',\n",
      "                                 'Municipal Department': '/categories/municipal_department',\n",
      "                                 'Registration Services': '/categories/registration_services'},\n",
      " 'Media & Publishing': {'Books & Magazines': '/categories/books_magazines',\n",
      "                        'Media & Information': '/categories/media_information',\n",
      "                        'Photography': '/categories/photography',\n",
      "                        'Video & Sound': '/categories/video_sound'},\n",
      " 'Money & Insurance': {'Accounting & Tax': '/categories/accounting_tax',\n",
      "                       'Banking & Money': '/categories/banking_money',\n",
      "                       'Credit & Debt Services': '/categories/credit_debt_services',\n",
      "                       'Insurance': '/categories/insurance',\n",
      "                       'Investments & Wealth': '/categories/investments_wealth',\n",
      "                       'Real Estate': '/categories/real_estate'},\n",
      " 'Public & Local Services': {'Employment & Career': '/categories/employment_career',\n",
      "                             'Funeral & Memorial': '/categories/funeral_memorial',\n",
      "                             'Housing Associations': '/categories/housing_associations',\n",
      "                             'Kids & Family': '/categories/kids_family',\n",
      "                             'Military & Veteran': '/categories/military_veteran',\n",
      "                             'Nature & Environment': '/categories/nature_environment',\n",
      "                             'Professional Organizations': '/categories/professional_organizations',\n",
      "                             'Public Services & Welfare': '/categories/public_services_welfare',\n",
      "                             'Religious Institutions': '/categories/religious_institutions',\n",
      "                             'Shelters & Homes': '/categories/shelters_homes',\n",
      "                             'Waste Management': '/categories/waste_management'},\n",
      " 'Restaurants & Bars': {'Bars & Cafes': '/categories/bars_cafes',\n",
      "                        'European Cuisine': '/categories/european_cuisine',\n",
      "                        'General Restaurants': '/categories/general_restaurants',\n",
      "                        'Mediterranean Cuisine': '/categories/mediterranean_cuisine',\n",
      "                        'Middle Eastern Cuisine': '/categories/middle_eastern_cuisine',\n",
      "                        'North & South American Cuisine': '/categories/north_south_american_cuisine',\n",
      "                        'Southeast Asian Cuisine': '/categories/southeast_asian_cuisine',\n",
      "                        'Takeaway': '/categories/takeaway',\n",
      "                        'Vegetarian & Diet': '/categories/vegetarian_diet'},\n",
      " 'Shopping & Fashion': {'Accessories': '/categories/accessories',\n",
      "                        'Clothing & Underwear': '/categories/clothing_underwear',\n",
      "                        'Clothing Rental & Repair': '/categories/clothing_rental_repair',\n",
      "                        'Costume & Wedding': '/categories/costume_wedding',\n",
      "                        'Jewelry & Watches': '/categories/jewelry_watches',\n",
      "                        'Malls & Marketplaces': '/categories/malls_marketplaces'},\n",
      " 'Sports': {'Ball Games': '/categories/ball_games',\n",
      "            'Bat-and-ball Games': '/categories/bat-and-ball_games',\n",
      "            'Bowls & Lawn Sports': '/categories/bowls_lawn_sports',\n",
      "            'Dancing & Gymnastics': '/categories/dancing_gymnastics',\n",
      "            'Equipment & Associations': '/categories/equipment_associations',\n",
      "            'Extreme Sports': '/categories/extreme_sports',\n",
      "            'Fitness & Weight Lifting': '/categories/fitness_weight_lifting',\n",
      "            'Golf & Ultimate': '/categories/golf_ultimate',\n",
      "            'Hockey & Ice Skating': '/categories/hockey_ice_skating',\n",
      "            'Martial arts & Wrestling': '/categories/martial_arts_wrestling',\n",
      "            'Outdoor & Winter Sports': '/categories/outdoor_winter_sports',\n",
      "            'Shooting & Target Sports': '/categories/shooting_target_sports',\n",
      "            'Swimming & Water Sports': '/categories/swimming_water_sports',\n",
      "            'Tennis & Racquet Sports': '/categories/tennis_racquet_sports'},\n",
      " 'Travel & Vacation': {'Accommodation & Lodging': '/categories/accomodations_lodging',\n",
      "                       'Activities & Tours': '/categories/activities_tours',\n",
      "                       'Airlines & Air Travel': '/categories/airlines_air_travel',\n",
      "                       'Hotels': '/categories/hotels',\n",
      "                       'Travel Agencies': '/categories/travel_agencies'},\n",
      " 'Utilities': {'Energy & Power': '/categories/energy_power',\n",
      "               'Water Utilities': '/categories/water_utilities'},\n",
      " 'Vehicles & Transportation': {'Air & Water Transport': '/categories/air_water_transport',\n",
      "                               'Airports & Parking': '/categories/airports_parking',\n",
      "                               'Auto Parts & Wheels': '/categories/auto_parts_wheels',\n",
      "                               'Bicycles': '/categories/bicycles',\n",
      "                               'Cars & Trucks': '/categories/cars_trucks',\n",
      "                               'Motorcycle & Powersports': '/categories/motorcycle_powersports',\n",
      "                               'Other Vehicles & Trailers': '/categories/other_vehicles_trailers',\n",
      "                               'Taxis & Public Transport': '/categories/taxis_public_transport',\n",
      "                               'Vehical Rental': '/categories/vehical_rental',\n",
      "                               'Vehicle Repair & Fuel': '/categories/vehicle_repair_fuel'}}\n"
     ]
    }
   ],
   "source": [
    "pp.pprint(data)"
   ]
  },
  {
   "cell_type": "code",
   "execution_count": 35,
   "metadata": {
    "ExecuteTime": {
     "end_time": "2020-07-23T17:18:36.218201Z",
     "start_time": "2020-07-23T17:18:36.214201Z"
    }
   },
   "outputs": [
    {
     "data": {
      "text/plain": [
       "22"
      ]
     },
     "execution_count": 35,
     "metadata": {},
     "output_type": "execute_result"
    }
   ],
   "source": [
    "# Number of categories\n",
    "len(data)"
   ]
  },
  {
   "cell_type": "markdown",
   "metadata": {},
   "source": [
    "We start by initializing Selenium with a headless Chromedriver:"
   ]
  },
  {
   "cell_type": "code",
   "execution_count": 36,
   "metadata": {
    "ExecuteTime": {
     "end_time": "2020-07-23T17:18:40.681015Z",
     "start_time": "2020-07-23T17:18:37.485634Z"
    }
   },
   "outputs": [],
   "source": [
    "options = Options()\n",
    "options.add_argument('--headless')\n",
    "options.add_argument('--no-sandbox')\n",
    "options.add_argument('start-maximized')\n",
    "options.add_argument('disable-infobars')\n",
    "options.add_argument(\"--disable-extensions\")\n",
    "\n",
    "prefs = {\"profile.managed_default_content_settings.images\": 2}\n",
    "options.add_experimental_option(\"prefs\", prefs)\n",
    "\n",
    "driver = webdriver.Chrome('C:/Users/kting/Documents/GitHub/post-tuto-deployment/src/scraping/selenium/driver/chromedriver.exe', \n",
    "                          options=options)"
   ]
  },
  {
   "cell_type": "code",
   "execution_count": null,
   "metadata": {},
   "outputs": [],
   "source": []
  },
  {
   "cell_type": "code",
   "execution_count": null,
   "metadata": {
    "ExecuteTime": {
     "end_time": "2020-07-23T16:29:02.106028Z",
     "start_time": "2020-07-23T16:29:02.101026Z"
    }
   },
   "outputs": [],
   "source": []
  },
  {
   "cell_type": "code",
   "execution_count": 38,
   "metadata": {
    "ExecuteTime": {
     "end_time": "2020-07-23T17:19:02.662012Z",
     "start_time": "2020-07-23T17:19:02.654011Z"
    }
   },
   "outputs": [],
   "source": [
    "def cat_companies_finder(cat, ls):\n",
    "    base_url = \"https://trustpilot.com\"\n",
    "    timeout = 5 # No. of seconds for driver to attempt connection before giving up\n",
    "\n",
    "    for subcat_name, subcat_uri in tqdm(data[cat].items(), leave=False):\n",
    "        # Reset back to page 1\n",
    "        page_num, is_NextPage = 1, True \n",
    "\n",
    "        while is_NextPage:\n",
    "\n",
    "            # Navigate to page\n",
    "            url = base_url + subcat_uri + \"?numberofreviews=0\" + \"&page=\" + str(page_num) + \"&status=all&timeperiod=0\" \n",
    "            # print(url)\n",
    "            driver.get(url)\n",
    "\n",
    "            # Pause code execution until driver loads page fully\n",
    "            try: \n",
    "                # EC is Expected Conditions\n",
    "                element_present = EC.presence_of_element_located((By.CLASS_NAME, 'wrapper___28fVm'))\n",
    "                WebDriverWait(driver, timeout).until(element_present)\n",
    "            except:\n",
    "                print(f\"{url} takes too long to access the link. Breaking.\")\n",
    "                break\n",
    "\n",
    "            # Extract all company urls in that page and add to list\n",
    "            companies = driver.find_elements_by_xpath('//div[@class=\"businessUnitCardsContainer___Qhix1\"][1]/a')\n",
    "            # urls = [url.get_attribute('href') for url in companies]\n",
    "            \n",
    "            for url in companies:\n",
    "                ls.append([cat, subcat_name, url.get_attribute('href')])\n",
    "            \n",
    "\n",
    "            # check if there's next page button\n",
    "            try:\n",
    "                button = driver.find_element_by_xpath('//nav[@role=\"navigation\"]/a[@aria-label=\"Next page\"]')\n",
    "                # If no exception, then there exists a next page\n",
    "                page_num += 1\n",
    "            except NoSuchElementException:\n",
    "                is_NextPage = False\n",
    "            except:\n",
    "                print(\"Hmm\") \n",
    "                \n",
    "    print(f\"Category: {cat} is completed.\")\n",
    "    "
   ]
  },
  {
   "cell_type": "markdown",
   "metadata": {},
   "source": [
    "## The following cell takes too long. There's too many things to scrape lmao."
   ]
  },
  {
   "cell_type": "code",
   "execution_count": null,
   "metadata": {
    "ExecuteTime": {
     "start_time": "2020-07-23T17:19:07.374Z"
    }
   },
   "outputs": [
    {
     "data": {
      "application/vnd.jupyter.widget-view+json": {
       "model_id": "257cf23e33b04d9ba4f6fbd9a7eb33ee",
       "version_major": 2,
       "version_minor": 0
      },
      "text/plain": [
       "HBox(children=(FloatProgress(value=0.0, max=7.0), HTML(value='')))"
      ]
     },
     "metadata": {},
     "output_type": "display_data"
    },
    {
     "data": {
      "application/vnd.jupyter.widget-view+json": {
       "model_id": "dd56d4581fec454792bd3e1e173babcc",
       "version_major": 2,
       "version_minor": 0
      },
      "text/plain": [
       "HBox(children=(FloatProgress(value=0.0, max=11.0), HTML(value='')))"
      ]
     },
     "metadata": {},
     "output_type": "display_data"
    },
    {
     "data": {
      "application/vnd.jupyter.widget-view+json": {
       "model_id": "03f2c03998f6460485d16aebca9db490",
       "version_major": 2,
       "version_minor": 0
      },
      "text/plain": [
       "HBox(children=(FloatProgress(value=0.0, max=6.0), HTML(value='')))"
      ]
     },
     "metadata": {},
     "output_type": "display_data"
    },
    {
     "data": {
      "application/vnd.jupyter.widget-view+json": {
       "model_id": "d41abfb177504f33bcbc964210645948",
       "version_major": 2,
       "version_minor": 0
      },
      "text/plain": [
       "HBox(children=(FloatProgress(value=0.0, max=11.0), HTML(value='')))"
      ]
     },
     "metadata": {},
     "output_type": "display_data"
    },
    {
     "data": {
      "application/vnd.jupyter.widget-view+json": {
       "model_id": "1f3108e5030045c9b0eeaf1a383407e7",
       "version_major": 2,
       "version_minor": 0
      },
      "text/plain": [
       "HBox(children=(FloatProgress(value=0.0, max=8.0), HTML(value='')))"
      ]
     },
     "metadata": {},
     "output_type": "display_data"
    },
    {
     "data": {
      "application/vnd.jupyter.widget-view+json": {
       "model_id": "df0cfcabf43d4015ae410d8adef3f236",
       "version_major": 2,
       "version_minor": 0
      },
      "text/plain": [
       "HBox(children=(FloatProgress(value=0.0, max=10.0), HTML(value='')))"
      ]
     },
     "metadata": {},
     "output_type": "display_data"
    },
    {
     "data": {
      "application/vnd.jupyter.widget-view+json": {
       "model_id": "61031015184941f2a16e3f3e640a40a4",
       "version_major": 2,
       "version_minor": 0
      },
      "text/plain": [
       "HBox(children=(FloatProgress(value=0.0, max=5.0), HTML(value='')))"
      ]
     },
     "metadata": {},
     "output_type": "display_data"
    },
    {
     "data": {
      "application/vnd.jupyter.widget-view+json": {
       "model_id": "6839ce479e894c168c26d398730f7c4a",
       "version_major": 2,
       "version_minor": 0
      },
      "text/plain": [
       "HBox(children=(FloatProgress(value=0.0, max=15.0), HTML(value='')))"
      ]
     },
     "metadata": {},
     "output_type": "display_data"
    },
    {
     "data": {
      "application/vnd.jupyter.widget-view+json": {
       "model_id": "0a3f17fb11cc4c3686ab4a2a8aa00081",
       "version_major": 2,
       "version_minor": 0
      },
      "text/plain": [
       "HBox(children=(FloatProgress(value=0.0, max=8.0), HTML(value='')))"
      ]
     },
     "metadata": {},
     "output_type": "display_data"
    },
    {
     "data": {
      "application/vnd.jupyter.widget-view+json": {
       "model_id": "09b579550f3e4750a5a451663aeeb6bc",
       "version_major": 2,
       "version_minor": 0
      },
      "text/plain": [
       "HBox(children=(FloatProgress(value=0.0, max=9.0), HTML(value='')))"
      ]
     },
     "metadata": {},
     "output_type": "display_data"
    },
    {
     "data": {
      "application/vnd.jupyter.widget-view+json": {
       "model_id": "155edaa1f0474c4aae3a533ab40b02a4",
       "version_major": 2,
       "version_minor": 0
      },
      "text/plain": [
       "HBox(children=(FloatProgress(value=0.0, max=4.0), HTML(value='')))"
      ]
     },
     "metadata": {},
     "output_type": "display_data"
    },
    {
     "data": {
      "application/vnd.jupyter.widget-view+json": {
       "model_id": "fb83ed64fe144941b47a1eb4799465b6",
       "version_major": 2,
       "version_minor": 0
      },
      "text/plain": [
       "HBox(children=(FloatProgress(value=0.0, max=7.0), HTML(value='')))"
      ]
     },
     "metadata": {},
     "output_type": "display_data"
    },
    {
     "data": {
      "application/vnd.jupyter.widget-view+json": {
       "model_id": "7a3c7045e3da4354bfa828754043619c",
       "version_major": 2,
       "version_minor": 0
      },
      "text/plain": [
       "HBox(children=(FloatProgress(value=0.0, max=6.0), HTML(value='')))"
      ]
     },
     "metadata": {},
     "output_type": "display_data"
    },
    {
     "data": {
      "application/vnd.jupyter.widget-view+json": {
       "model_id": "f827bd65cc374549a1c5e92f2e2ea68e",
       "version_major": 2,
       "version_minor": 0
      },
      "text/plain": [
       "HBox(children=(FloatProgress(value=0.0, max=9.0), HTML(value='')))"
      ]
     },
     "metadata": {},
     "output_type": "display_data"
    },
    {
     "data": {
      "application/vnd.jupyter.widget-view+json": {
       "model_id": "29de30ec5d44493ca668ce593dd1b09b",
       "version_major": 2,
       "version_minor": 0
      },
      "text/plain": [
       "HBox(children=(FloatProgress(value=0.0, max=11.0), HTML(value='')))"
      ]
     },
     "metadata": {},
     "output_type": "display_data"
    },
    {
     "data": {
      "application/vnd.jupyter.widget-view+json": {
       "model_id": "034560af934c4cbf8e87178d789506b9",
       "version_major": 2,
       "version_minor": 0
      },
      "text/plain": [
       "HBox(children=(FloatProgress(value=0.0, max=6.0), HTML(value='')))"
      ]
     },
     "metadata": {},
     "output_type": "display_data"
    },
    {
     "data": {
      "application/vnd.jupyter.widget-view+json": {
       "model_id": "b6c35783100b44a8931c3fb8e42586e9",
       "version_major": 2,
       "version_minor": 0
      },
      "text/plain": [
       "HBox(children=(FloatProgress(value=0.0, max=14.0), HTML(value='')))"
      ]
     },
     "metadata": {},
     "output_type": "display_data"
    },
    {
     "data": {
      "application/vnd.jupyter.widget-view+json": {
       "model_id": "ca49b062c4f34355be61770393300754",
       "version_major": 2,
       "version_minor": 0
      },
      "text/plain": [
       "HBox(children=(FloatProgress(value=0.0, max=5.0), HTML(value='')))"
      ]
     },
     "metadata": {},
     "output_type": "display_data"
    },
    {
     "data": {
      "application/vnd.jupyter.widget-view+json": {
       "model_id": "5f578e1975044dd5b07a7e00d3fc1edb",
       "version_major": 2,
       "version_minor": 0
      },
      "text/plain": [
       "HBox(children=(FloatProgress(value=0.0, max=13.0), HTML(value='')))"
      ]
     },
     "metadata": {},
     "output_type": "display_data"
    },
    {
     "data": {
      "application/vnd.jupyter.widget-view+json": {
       "model_id": "37b4211cd25848eb8c73ed9e1d7fc902",
       "version_major": 2,
       "version_minor": 0
      },
      "text/plain": [
       "HBox(children=(FloatProgress(value=0.0, max=10.0), HTML(value='')))"
      ]
     },
     "metadata": {},
     "output_type": "display_data"
    },
    {
     "data": {
      "application/vnd.jupyter.widget-view+json": {
       "model_id": "a1b4a31889b94ca7bc9c8bf446f355a4",
       "version_major": 2,
       "version_minor": 0
      },
      "text/plain": [
       "HBox(children=(FloatProgress(value=0.0, max=2.0), HTML(value='')))"
      ]
     },
     "metadata": {},
     "output_type": "display_data"
    },
    {
     "data": {
      "application/vnd.jupyter.widget-view+json": {
       "model_id": "3370af4de6a246ff98592960796b480c",
       "version_major": 2,
       "version_minor": 0
      },
      "text/plain": [
       "HBox(children=(FloatProgress(value=0.0, max=10.0), HTML(value='')))"
      ]
     },
     "metadata": {},
     "output_type": "display_data"
    }
   ],
   "source": [
    "thread_list = []\n",
    "ls = []\n",
    "\n",
    "for category in data.keys():  \n",
    "\n",
    "    # Create nested dictionary for each Category\n",
    "    all_companies_dict[category] = {}\n",
    "    \n",
    "    trd = threading.Thread(target=cat_companies_finder, args=(category, ls))\n",
    "    thread_list.append(trd) \n",
    "    trd.start()\n",
    "    \n",
    "for trd in thread_list:\n",
    "    trd.join() # wait for all threads to complete before progressing.\n",
    "    \n",
    "print(\"All categories completed.\")"
   ]
  },
  {
   "cell_type": "code",
   "execution_count": null,
   "metadata": {
    "ExecuteTime": {
     "start_time": "2020-07-23T17:19:08.876Z"
    },
    "scrolled": true
   },
   "outputs": [],
   "source": [
    "ls;"
   ]
  },
  {
   "cell_type": "code",
   "execution_count": null,
   "metadata": {
    "ExecuteTime": {
     "start_time": "2020-07-23T17:19:09.229Z"
    }
   },
   "outputs": [],
   "source": [
    "df = pd.DataFrame(ls)"
   ]
  },
  {
   "cell_type": "code",
   "execution_count": null,
   "metadata": {
    "ExecuteTime": {
     "start_time": "2020-07-23T17:19:10.005Z"
    }
   },
   "outputs": [],
   "source": [
    "df"
   ]
  },
  {
   "cell_type": "code",
   "execution_count": null,
   "metadata": {},
   "outputs": [],
   "source": []
  },
  {
   "cell_type": "code",
   "execution_count": null,
   "metadata": {},
   "outputs": [],
   "source": []
  },
  {
   "cell_type": "code",
   "execution_count": null,
   "metadata": {},
   "outputs": [],
   "source": []
  },
  {
   "cell_type": "code",
   "execution_count": null,
   "metadata": {},
   "outputs": [],
   "source": []
  },
  {
   "cell_type": "code",
   "execution_count": null,
   "metadata": {
    "ExecuteTime": {
     "start_time": "2020-07-23T13:34:17.697Z"
    }
   },
   "outputs": [],
   "source": [
    "base_url = \"https://trustpilot.com\"\n",
    "timeout = 3 # No. of seconds for driver to attempt connection before giving up\n",
    "company_urls = {}\n",
    "\n",
    "for cat in tqdm(data):\n",
    "    \n",
    "    for subcat in tqdm(data[cat], leave=False):\n",
    "        page_num, is_NextPage = 1, True # Reset back to page 1\n",
    "        company_urls[sub_category] = []\n",
    "        \n",
    "        while is_NextPage:\n",
    "            url = base_url + data[cat][subcat] + \"?numberofreviews=0&timeperiod=0&status=all\" + \"&page=\" + str(page_num)\n",
    "            driver.get(url)\n",
    "\n",
    "            # Pause code execution until driver loads page fully\n",
    "            try: \n",
    "                # EC is Expected Conditions\n",
    "                element_present = EC.presence_of_element_located((By.CLASS_NAME, 'wrapper___28fVm'))\n",
    "                WebDriverWait(driver, timeout).until(element_present)\n",
    "            except:\n",
    "                print(\"Takes too long to access the link. Breaking.\")\n",
    "                break\n",
    "\n",
    "            # Extract all company urls in that page and add to subcategory list\n",
    "            companies = driver.find_elements_by_xpath('//div[@class=\"businessUnitCardsContainer___Qhix1\"][1]/a')\n",
    "            urls = [url.get_attribute('href') for url in companies]\n",
    "            company_urls[sub_category].extend(urls) \n",
    "\n",
    "            # check if there's next page button\n",
    "            try:\n",
    "                button = driver.find_element_by_xpath('//nav[@role=\"navigation\"]/a[@aria-label=\"Next page\"]')\n",
    "                # If no exception, then there exists a next page\n",
    "                page_num += 1\n",
    "            except NoSuchElementException:\n",
    "                is_NextPage = False\n",
    "            except:\n",
    "                print(\"Hmm\") "
   ]
  },
  {
   "cell_type": "code",
   "execution_count": null,
   "metadata": {
    "ExecuteTime": {
     "end_time": "2020-07-23T12:34:51.167839Z",
     "start_time": "2020-07-23T12:34:51.159837Z"
    }
   },
   "outputs": [],
   "source": [
    "len(subcat_coylist)"
   ]
  },
  {
   "cell_type": "code",
   "execution_count": null,
   "metadata": {},
   "outputs": [],
   "source": []
  },
  {
   "cell_type": "code",
   "execution_count": null,
   "metadata": {},
   "outputs": [],
   "source": []
  },
  {
   "cell_type": "markdown",
   "metadata": {},
   "source": [
    "We launch scraping: (~ 50 minutes)"
   ]
  },
  {
   "cell_type": "code",
   "execution_count": null,
   "metadata": {},
   "outputs": [],
   "source": [
    "company_urls = {}\n",
    "for category in tqdm_notebook(data):\n",
    "    for sub_category in tqdm_notebook(data[category], leave=False):\n",
    "        company_urls[sub_category] = []\n",
    "\n",
    "        url = base_url + data[category][sub_category] + \"?numberofreviews=0&timeperiod=0&status=all\"\n",
    "        driver.get(url)\n",
    "        try: \n",
    "            element_present = EC.presence_of_element_located(\n",
    "                (By.CLASS_NAME, 'category-business-card card'))\n",
    "            \n",
    "            WebDriverWait(driver, timeout).until(element_present)\n",
    "        except:\n",
    "            pass\n",
    "    \n",
    "        next_page = True\n",
    "        c = 1\n",
    "        while next_page:\n",
    "            extracted_company_urls = extract_company_urls_form_page()\n",
    "            company_urls[sub_category] += extracted_company_urls\n",
    "            next_page, button = go_next_page()\n",
    "            \n",
    "            if next_page:\n",
    "                c += 1\n",
    "                next_url = base_url + data[category][sub_category] + \"?numberofreviews=0&timeperiod=0&status=all\" + f'&page={c}'\n",
    "                driver.get(next_url)\n",
    "                try: \n",
    "                    element_present = EC.presence_of_element_located(\n",
    "                        (By.CLASS_NAME, 'category-business-card card'))\n",
    "                    \n",
    "                    WebDriverWait(driver, timeout).until(element_present)\n",
    "                except:\n",
    "                    pass\n",
    "                    "
   ]
  },
  {
   "cell_type": "markdown",
   "metadata": {},
   "source": [
    "And finally we export everything:"
   ]
  },
  {
   "cell_type": "code",
   "execution_count": null,
   "metadata": {},
   "outputs": [],
   "source": [
    "with open('./exports/company_urls_en', 'w') as f:\n",
    "    json.dump(company_urls, f)"
   ]
  },
  {
   "cell_type": "code",
   "execution_count": null,
   "metadata": {},
   "outputs": [],
   "source": [
    "consolidated_data = []\n",
    "\n",
    "for category in data:\n",
    "    for sub_category in data[category]:\n",
    "        for url in company_urls[sub_category]:\n",
    "            consolidated_data.append((category, sub_category, url))\n",
    "\n",
    "df_consolidated_data = pd.DataFrame(consolidated_data, columns=['category', 'sub_category', 'company_url'])\n",
    "\n",
    "df_consolidated_data.to_csv('./exports/consolidate_company_urls.csv', index=False)"
   ]
  },
  {
   "cell_type": "code",
   "execution_count": null,
   "metadata": {},
   "outputs": [],
   "source": [
    "df_consolidated_data.head()"
   ]
  },
  {
   "cell_type": "code",
   "execution_count": null,
   "metadata": {},
   "outputs": [],
   "source": []
  },
  {
   "cell_type": "markdown",
   "metadata": {},
   "source": [
    "# Test\n",
    "Breakdown of the components"
   ]
  },
  {
   "cell_type": "markdown",
   "metadata": {},
   "source": [
    "The `lxml` parser is important. If run into errors, you have to conda install lxml. If that still fails, then you have to re-install lxml and bs, and restall them in the order: lxml then bs."
   ]
  },
  {
   "cell_type": "code",
   "execution_count": null,
   "metadata": {
    "ExecuteTime": {
     "end_time": "2020-07-23T13:20:56.424044Z",
     "start_time": "2020-07-23T13:20:56.418045Z"
    }
   },
   "outputs": [],
   "source": [
    "def get_soup(url):\n",
    "    return BeautifulSoup(requests.get(url).content, 'lxml')"
   ]
  },
  {
   "cell_type": "code",
   "execution_count": null,
   "metadata": {
    "ExecuteTime": {
     "end_time": "2020-07-23T13:20:57.810756Z",
     "start_time": "2020-07-23T13:20:56.572095Z"
    }
   },
   "outputs": [],
   "source": [
    "# First get the beautiful soup object\n",
    "soup = get_soup(\"https://trustpilot.com/categories\")\n",
    "print(type(soup))"
   ]
  },
  {
   "cell_type": "markdown",
   "metadata": {},
   "source": [
    "Obtain the list of category tags. As in the HTML tags; these tags are full of weird strings that make up the web page elements."
   ]
  },
  {
   "cell_type": "code",
   "execution_count": null,
   "metadata": {
    "ExecuteTime": {
     "end_time": "2020-07-23T13:20:57.844756Z",
     "start_time": "2020-07-23T13:20:57.815757Z"
    }
   },
   "outputs": [],
   "source": [
    "catTAG_ls = soup.findAll('div', {'class': 'subCategory___BRUDy'})"
   ]
  },
  {
   "cell_type": "code",
   "execution_count": null,
   "metadata": {
    "ExecuteTime": {
     "end_time": "2020-07-23T13:20:57.855758Z",
     "start_time": "2020-07-23T13:20:57.849759Z"
    }
   },
   "outputs": [],
   "source": [
    "print(f'cat_ls is a list containing {len(catTAG_ls)} {type(catTAG_ls[0])} objects.')"
   ]
  },
  {
   "cell_type": "markdown",
   "metadata": {},
   "source": [
    "We get the first element of the list `catTAG_ls`, which is category tag, which in this case is the whole HTML element make up of \"Animals & Pets\"."
   ]
  },
  {
   "cell_type": "code",
   "execution_count": null,
   "metadata": {
    "ExecuteTime": {
     "end_time": "2020-07-23T13:20:58.280750Z",
     "start_time": "2020-07-23T13:20:58.275749Z"
    }
   },
   "outputs": [],
   "source": [
    "catTAG = catTAG_ls[0]"
   ]
  },
  {
   "cell_type": "markdown",
   "metadata": {},
   "source": [
    "From this category tag HTML-element, we extract the name \"Animals & Pets\" string from it."
   ]
  },
  {
   "cell_type": "code",
   "execution_count": null,
   "metadata": {
    "ExecuteTime": {
     "end_time": "2020-07-23T13:20:58.761784Z",
     "start_time": "2020-07-23T13:20:58.753784Z"
    }
   },
   "outputs": [],
   "source": [
    "catNAME = catTAG.find('h3', {'class': 'subCategoryHeader___36ykD'}).text\n",
    "catNAME"
   ]
  },
  {
   "cell_type": "code",
   "execution_count": null,
   "metadata": {
    "ExecuteTime": {
     "end_time": "2020-07-23T13:20:58.898823Z",
     "start_time": "2020-07-23T13:20:58.889823Z"
    }
   },
   "outputs": [],
   "source": [
    "# This shouldn't effect in any changes, cause .strip() only removes leading and trailing whitespaces.\n",
    "catNAME = catNAME.strip()\n",
    "catNAME"
   ]
  },
  {
   "cell_type": "markdown",
   "metadata": {},
   "source": [
    "Under the category \"Animals & Pets\", there're many subcategories under it. Such as \"Animal Health\"."
   ]
  },
  {
   "cell_type": "code",
   "execution_count": null,
   "metadata": {
    "ExecuteTime": {
     "end_time": "2020-07-23T13:20:59.392903Z",
     "start_time": "2020-07-23T13:20:59.386902Z"
    }
   },
   "outputs": [],
   "source": [
    "subcatTAG_ls = catTAG.findAll('div', {'class': 'subCategoryItem___3ksKz'})"
   ]
  },
  {
   "cell_type": "code",
   "execution_count": null,
   "metadata": {
    "ExecuteTime": {
     "end_time": "2020-07-23T13:20:59.529931Z",
     "start_time": "2020-07-23T13:20:59.522927Z"
    }
   },
   "outputs": [],
   "source": [
    "print(f\"There are {len(subcatTAG_ls)} subcategories under the category 'Animals & Pets'.\")"
   ]
  },
  {
   "cell_type": "markdown",
   "metadata": {},
   "source": [
    "We extract the first element from it, to get the subcategory tag HTML element object thingy."
   ]
  },
  {
   "cell_type": "code",
   "execution_count": null,
   "metadata": {
    "ExecuteTime": {
     "end_time": "2020-07-23T13:21:00.834583Z",
     "start_time": "2020-07-23T13:21:00.827580Z"
    }
   },
   "outputs": [],
   "source": [
    "subcatTAG = subcatTAG_ls[0]"
   ]
  },
  {
   "cell_type": "markdown",
   "metadata": {},
   "source": [
    "Because `subcatTag` only contains one text element, thus there's no need to further filter it. We can just extract the text \"Animal Health\" straightaway."
   ]
  },
  {
   "cell_type": "code",
   "execution_count": null,
   "metadata": {
    "ExecuteTime": {
     "end_time": "2020-07-23T13:21:01.275154Z",
     "start_time": "2020-07-23T13:21:01.266150Z"
    }
   },
   "outputs": [],
   "source": [
    "subcatNAME = subcatTAG.text\n",
    "subcatNAME"
   ]
  },
  {
   "cell_type": "markdown",
   "metadata": {},
   "source": [
    "We can pretty print this element tag with `prettify()`. Without pretty print, it will look terrible."
   ]
  },
  {
   "cell_type": "code",
   "execution_count": null,
   "metadata": {
    "ExecuteTime": {
     "end_time": "2020-07-23T13:21:02.080260Z",
     "start_time": "2020-07-23T13:21:02.073259Z"
    }
   },
   "outputs": [],
   "source": [
    "print(subcatTAG.prettify())"
   ]
  },
  {
   "cell_type": "markdown",
   "metadata": {},
   "source": [
    "We can extract the href (hypertext reference) that is nested in the `href` tag of the Tag. Note that the value extracted won't be the full url. "
   ]
  },
  {
   "cell_type": "code",
   "execution_count": null,
   "metadata": {
    "ExecuteTime": {
     "end_time": "2020-07-23T13:21:03.554193Z",
     "start_time": "2020-07-23T13:21:03.544187Z"
    }
   },
   "outputs": [],
   "source": [
    "subcatTAG.find('a')['href']"
   ]
  },
  {
   "cell_type": "code",
   "execution_count": null,
   "metadata": {},
   "outputs": [],
   "source": []
  },
  {
   "cell_type": "markdown",
   "metadata": {},
   "source": [
    "# Testing 2"
   ]
  },
  {
   "cell_type": "markdown",
   "metadata": {},
   "source": [
    "We start off with a sub-category \"Best in IT & Communication\". We will be able to know it's url too by tweaking the earlier test. We choose this because it has numerous companies under it, and thus have many pages."
   ]
  },
  {
   "cell_type": "code",
   "execution_count": null,
   "metadata": {
    "ExecuteTime": {
     "end_time": "2020-07-23T13:21:27.855579Z",
     "start_time": "2020-07-23T13:21:27.847579Z"
    }
   },
   "outputs": [],
   "source": [
    "base_url = \"https://trustpilot.com\"\n",
    "url = base_url + \"/categories/it_communication\" + \"?numberofreviews=0&timeperiod=0&status=all&page=1\"\n",
    "print(url)"
   ]
  },
  {
   "cell_type": "markdown",
   "metadata": {},
   "source": [
    "See here for [Explicit Waits](https://selenium-python.readthedocs.io/waits.html). The point of the following cell block is to ensure that Selenium is done loading the resources of the webpage before the rest of the code can proceed."
   ]
  },
  {
   "cell_type": "code",
   "execution_count": null,
   "metadata": {
    "ExecuteTime": {
     "end_time": "2020-07-23T13:21:36.882752Z",
     "start_time": "2020-07-23T13:21:31.656908Z"
    }
   },
   "outputs": [],
   "source": [
    "# Go and instantiate the chromedriver somewhere up above\n",
    "driver.get(url)\n",
    "\n",
    "timeout = 3\n",
    "try: \n",
    "    # EC is Expected Conditions\n",
    "    element_present = EC.presence_of_element_located(\n",
    "        (By.CLASS_NAME, 'wrapper___28fVm'))\n",
    "\n",
    "    WebDriverWait(driver, timeout).until(element_present)\n",
    "except:\n",
    "    print(\"If you see this, means you got to find a new element to wait on. This trustpilot website updates itself frequently.\")\n",
    "    pass"
   ]
  },
  {
   "cell_type": "markdown",
   "metadata": {},
   "source": [
    "This `find_elements_by_xpath` can be rather tough to understand. Becuase of the fact that when you see this in the future, the layout of the webpage can change, as such the argument in it will not work any longer.\n",
    "\n",
    "But here are some pointers to understand the syntax:\n",
    "- The thing about xpath (which I think it's a Selenium thing) is that the argument it takes in is like a path, similar to directories in a file system.\n",
    "- As such, there are slashes (`/`) that denote \"sub-directories\".\n",
    "- `//` stands for relative path. Means you don't start from the root \"folder\".\n",
    "- A html _node_ is analogous to the folder in a file system. For example, if you see: `<div class='roflmao'></div>`, then `<div>` is the _node_. `class` is not the node in this case.\n",
    "- From the previous example: `class` is an example of a attribute. Attributes always have a name and a value. In this case, `class` is the name, and `roflmao` is the value associated to it.\n",
    "- Since nodes are like folders, their relationship with the slashes makes intutive hierarchical sense.\n",
    "- Attributes are used for filtering stuff inside a node/folder. Attributes always reside in a square bracket appended to a node. \n",
    "- Aside from attributes, you can use numbers to filter too, in the form of indexing in an array. Note that the syntax adopts one-indexing, so it starts from `1` and not `0`.\n",
    "\n",
    "Click [here](https://selenium-python.readthedocs.io/locating-elements.html#locating-by-xpath) for more info."
   ]
  },
  {
   "cell_type": "code",
   "execution_count": null,
   "metadata": {
    "ExecuteTime": {
     "end_time": "2020-07-23T13:21:44.510878Z",
     "start_time": "2020-07-23T13:21:44.465870Z"
    }
   },
   "outputs": [],
   "source": [
    "companies = driver.find_elements_by_xpath('//div[@class=\"businessUnitCardsContainer___Qhix1\"][1]/a')"
   ]
  },
  {
   "cell_type": "code",
   "execution_count": null,
   "metadata": {
    "ExecuteTime": {
     "end_time": "2020-07-23T13:21:44.787069Z",
     "start_time": "2020-07-23T13:21:44.778360Z"
    }
   },
   "outputs": [],
   "source": [
    "len(companies)"
   ]
  },
  {
   "cell_type": "code",
   "execution_count": null,
   "metadata": {
    "ExecuteTime": {
     "end_time": "2020-07-23T13:21:45.367954Z",
     "start_time": "2020-07-23T13:21:45.110070Z"
    }
   },
   "outputs": [],
   "source": [
    "urls = [a.get_attribute('href') for a in companies]\n",
    "urls"
   ]
  },
  {
   "cell_type": "code",
   "execution_count": null,
   "metadata": {
    "ExecuteTime": {
     "end_time": "2020-07-23T13:21:46.169057Z",
     "start_time": "2020-07-23T13:21:46.082050Z"
    }
   },
   "outputs": [],
   "source": [
    "try:\n",
    "    button = driver.find_element_by_xpath('//nav[@role=\"navigation\"]/a[@aria-label=\"Next page\"]')\n",
    "    print(f\"Button found, and (for sanity check) it says: {button.text}\")\n",
    "except NoSuchElementException:\n",
    "    print(\"NoSuchElementException\")\n",
    "except:\n",
    "    print(\"Hmm\")"
   ]
  },
  {
   "cell_type": "code",
   "execution_count": null,
   "metadata": {
    "ExecuteTime": {
     "end_time": "2020-07-23T12:34:16.397535Z",
     "start_time": "2020-07-23T12:28:06.305223Z"
    }
   },
   "outputs": [],
   "source": [
    "page_num = 1\n",
    "is_NextPage = True\n",
    "base_url = \"https://trustpilot.com\"\n",
    "sub_cat_url = \"/categories/it_communication\"\n",
    "timeout = 3 # No. of seconds for driver to attempt connection before giving up\n",
    "subcat_coylist = []\n",
    "\n",
    "while is_NextPage:\n",
    "    url = base_url + sub_cat_url + \"?numberofreviews=0&timeperiod=0&status=all\" + \"&page=\" + str(page_num)\n",
    "    print(url)\n",
    "    driver.get(url)\n",
    "\n",
    "    # Pause code execution until driver loads page fully\n",
    "    try: \n",
    "        # EC is Expected Conditions\n",
    "        element_present = EC.presence_of_element_located((By.CLASS_NAME, 'wrapper___28fVm'))\n",
    "        WebDriverWait(driver, timeout).until(element_present)\n",
    "    except:\n",
    "        print(\"Takes too long to access the link. Breaking.\")\n",
    "        break\n",
    "    \n",
    "    # Extract all company urls in that page and add to subcategory list\n",
    "    companies = driver.find_elements_by_xpath('//div[@class=\"businessUnitCardsContainer___Qhix1\"][1]/a')\n",
    "    urls = [url.get_attribute('href') for url in companies]\n",
    "    subcat_coylist.extend(urls)\n",
    "    pp.pprint(urls)    \n",
    "    \n",
    "    # check if there's next page button\n",
    "    try:\n",
    "        button = driver.find_element_by_xpath('//nav[@role=\"navigation\"]/a[@aria-label=\"Next page\"]')\n",
    "        # If no exception, then there exists a next page\n",
    "        page_num += 1\n",
    "        print(\"Next page found: \", end=\"\")\n",
    "    except NoSuchElementException:\n",
    "        is_NextPage = False\n",
    "        print(\"No next page. End.\")\n",
    "    except:\n",
    "        print(\"Hmm\")\n",
    "    "
   ]
  }
 ],
 "metadata": {
  "kernelspec": {
   "display_name": "Python [conda env:.conda-internship]",
   "language": "python",
   "name": "conda-env-.conda-internship-py"
  },
  "language_info": {
   "codemirror_mode": {
    "name": "ipython",
    "version": 3
   },
   "file_extension": ".py",
   "mimetype": "text/x-python",
   "name": "python",
   "nbconvert_exporter": "python",
   "pygments_lexer": "ipython3",
   "version": "3.7.7"
  }
 },
 "nbformat": 4,
 "nbformat_minor": 2
}
